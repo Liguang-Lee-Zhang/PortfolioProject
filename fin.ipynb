{
 "cells": [
  {
   "cell_type": "code",
   "execution_count": 1,
   "metadata": {},
   "outputs": [
    {
     "name": "stderr",
     "output_type": "stream",
     "text": [
      "/usr/local/lib/python3.7/dist-packages/IPython/core/interactiveshell.py:3051: DtypeWarning: Columns (5,6) have mixed types. Specify dtype option on import or set low_memory=False.\n",
      "  interactivity=interactivity, compiler=compiler, result=result)\n"
     ]
    },
    {
     "data": {
      "text/html": [
       "<div>\n",
       "<style scoped>\n",
       "    .dataframe tbody tr th:only-of-type {\n",
       "        vertical-align: middle;\n",
       "    }\n",
       "\n",
       "    .dataframe tbody tr th {\n",
       "        vertical-align: top;\n",
       "    }\n",
       "\n",
       "    .dataframe thead th {\n",
       "        text-align: right;\n",
       "    }\n",
       "</style>\n",
       "<table border=\"1\" class=\"dataframe\">\n",
       "  <thead>\n",
       "    <tr style=\"text-align: right;\">\n",
       "      <th></th>\n",
       "      <th>user_name</th>\n",
       "      <th>user_location</th>\n",
       "      <th>user_description</th>\n",
       "      <th>user_created</th>\n",
       "      <th>user_followers</th>\n",
       "      <th>user_friends</th>\n",
       "      <th>user_favourites</th>\n",
       "      <th>user_verified</th>\n",
       "      <th>date</th>\n",
       "      <th>text</th>\n",
       "      <th>hashtags</th>\n",
       "      <th>source</th>\n",
       "      <th>is_retweet</th>\n",
       "    </tr>\n",
       "  </thead>\n",
       "  <tbody>\n",
       "    <tr>\n",
       "      <th>0</th>\n",
       "      <td>MyNewsNE</td>\n",
       "      <td>Assam</td>\n",
       "      <td>MyNewsNE a dedicated multi-lingual media house...</td>\n",
       "      <td>24-05-2020 10:18</td>\n",
       "      <td>64.0</td>\n",
       "      <td>11.0</td>\n",
       "      <td>110.0</td>\n",
       "      <td>False</td>\n",
       "      <td>18-08-2020 12:55</td>\n",
       "      <td>Australia to Manufacture Covid-19 Vaccine and ...</td>\n",
       "      <td>['CovidVaccine']</td>\n",
       "      <td>Twitter Web App</td>\n",
       "      <td>False</td>\n",
       "    </tr>\n",
       "    <tr>\n",
       "      <th>1</th>\n",
       "      <td>Shubham Gupta</td>\n",
       "      <td>NaN</td>\n",
       "      <td>I will tell about all experiences of my life f...</td>\n",
       "      <td>14-08-2020 16:42</td>\n",
       "      <td>1.0</td>\n",
       "      <td>17.0</td>\n",
       "      <td>0.0</td>\n",
       "      <td>False</td>\n",
       "      <td>18-08-2020 12:55</td>\n",
       "      <td>#CoronavirusVaccine #CoronaVaccine #CovidVacci...</td>\n",
       "      <td>['CoronavirusVaccine', 'CoronaVaccine', 'Covid...</td>\n",
       "      <td>Twitter for Android</td>\n",
       "      <td>False</td>\n",
       "    </tr>\n",
       "    <tr>\n",
       "      <th>2</th>\n",
       "      <td>Journal of Infectiology</td>\n",
       "      <td>NaN</td>\n",
       "      <td>Journal of Infectiology (ISSN 2689-9981) is ac...</td>\n",
       "      <td>14-12-2017 07:07</td>\n",
       "      <td>143.0</td>\n",
       "      <td>566.0</td>\n",
       "      <td>8.0</td>\n",
       "      <td>False</td>\n",
       "      <td>18-08-2020 12:46</td>\n",
       "      <td>Deaths due to COVID-19 in Affected Countries\\n...</td>\n",
       "      <td>NaN</td>\n",
       "      <td>Twitter Web App</td>\n",
       "      <td>False</td>\n",
       "    </tr>\n",
       "    <tr>\n",
       "      <th>3</th>\n",
       "      <td>Zane</td>\n",
       "      <td>NaN</td>\n",
       "      <td>Fresher than you.</td>\n",
       "      <td>18-09-2019 11:01</td>\n",
       "      <td>29.0</td>\n",
       "      <td>25.0</td>\n",
       "      <td>620.0</td>\n",
       "      <td>False</td>\n",
       "      <td>18-08-2020 12:45</td>\n",
       "      <td>@Team_Subhashree @subhashreesotwe @iamrajchoco...</td>\n",
       "      <td>NaN</td>\n",
       "      <td>Twitter for Android</td>\n",
       "      <td>False</td>\n",
       "    </tr>\n",
       "    <tr>\n",
       "      <th>4</th>\n",
       "      <td>Ann-Maree O’Connor</td>\n",
       "      <td>Adelaide, South Australia</td>\n",
       "      <td>Retired university administrator. Melburnian b...</td>\n",
       "      <td>24-01-2013 14:53</td>\n",
       "      <td>83.0</td>\n",
       "      <td>497.0</td>\n",
       "      <td>10737.0</td>\n",
       "      <td>False</td>\n",
       "      <td>18-08-2020 12:45</td>\n",
       "      <td>@michellegrattan @ConversationEDU This is what...</td>\n",
       "      <td>NaN</td>\n",
       "      <td>Twitter Web App</td>\n",
       "      <td>False</td>\n",
       "    </tr>\n",
       "    <tr>\n",
       "      <th>...</th>\n",
       "      <td>...</td>\n",
       "      <td>...</td>\n",
       "      <td>...</td>\n",
       "      <td>...</td>\n",
       "      <td>...</td>\n",
       "      <td>...</td>\n",
       "      <td>...</td>\n",
       "      <td>...</td>\n",
       "      <td>...</td>\n",
       "      <td>...</td>\n",
       "      <td>...</td>\n",
       "      <td>...</td>\n",
       "      <td>...</td>\n",
       "    </tr>\n",
       "    <tr>\n",
       "      <th>381668</th>\n",
       "      <td>VaxBLR</td>\n",
       "      <td>Bengaluru, India</td>\n",
       "      <td>Hourly updates on FREE and PAID 18+ and 45+ va...</td>\n",
       "      <td>2021-06-21 08:44:34</td>\n",
       "      <td>38.0</td>\n",
       "      <td>0</td>\n",
       "      <td>0</td>\n",
       "      <td>False</td>\n",
       "      <td>2022-04-04 02:00:06</td>\n",
       "      <td>45+ #RURAL #Bengaluru #CovidVaccine Availabili...</td>\n",
       "      <td>['RURAL', 'Bengaluru', 'CovidVaccine']</td>\n",
       "      <td>VaxBlr</td>\n",
       "      <td>False</td>\n",
       "    </tr>\n",
       "    <tr>\n",
       "      <th>381669</th>\n",
       "      <td>VaxBLR</td>\n",
       "      <td>Bengaluru, India</td>\n",
       "      <td>Hourly updates on FREE and PAID 18+ and 45+ va...</td>\n",
       "      <td>2021-06-21 08:44:34</td>\n",
       "      <td>38.0</td>\n",
       "      <td>0</td>\n",
       "      <td>0</td>\n",
       "      <td>False</td>\n",
       "      <td>2022-04-04 01:30:27</td>\n",
       "      <td>18-44 #BBMP #Bengaluru #CovidVaccine Availabil...</td>\n",
       "      <td>['BBMP', 'Bengaluru', 'CovidVaccine', 'COVISHI...</td>\n",
       "      <td>VaxBlr</td>\n",
       "      <td>False</td>\n",
       "    </tr>\n",
       "    <tr>\n",
       "      <th>381670</th>\n",
       "      <td>VaxBLR</td>\n",
       "      <td>Bengaluru, India</td>\n",
       "      <td>Hourly updates on FREE and PAID 18+ and 45+ va...</td>\n",
       "      <td>2021-06-21 08:44:34</td>\n",
       "      <td>38.0</td>\n",
       "      <td>0</td>\n",
       "      <td>0</td>\n",
       "      <td>False</td>\n",
       "      <td>2022-04-04 01:30:17</td>\n",
       "      <td>18-44 #URBAN #Bengaluru #CovidVaccine Availabi...</td>\n",
       "      <td>['URBAN', 'Bengaluru', 'CovidVaccine', 'COVISH...</td>\n",
       "      <td>VaxBlr</td>\n",
       "      <td>False</td>\n",
       "    </tr>\n",
       "    <tr>\n",
       "      <th>381671</th>\n",
       "      <td>VaxBLR</td>\n",
       "      <td>Bengaluru, India</td>\n",
       "      <td>Hourly updates on FREE and PAID 18+ and 45+ va...</td>\n",
       "      <td>2021-06-21 08:44:34</td>\n",
       "      <td>38.0</td>\n",
       "      <td>0</td>\n",
       "      <td>0</td>\n",
       "      <td>False</td>\n",
       "      <td>2022-04-04 01:30:06</td>\n",
       "      <td>18-44 #RURAL #Bengaluru #CovidVaccine Availabi...</td>\n",
       "      <td>['RURAL', 'Bengaluru', 'CovidVaccine', 'COVISH...</td>\n",
       "      <td>VaxBlr</td>\n",
       "      <td>False</td>\n",
       "    </tr>\n",
       "    <tr>\n",
       "      <th>381672</th>\n",
       "      <td>YHenryG 😷🇺🇸 🇺🇳 🇺🇦 💉📚</td>\n",
       "      <td>South Florida, USA</td>\n",
       "      <td>Contradictions: wallow in nostalgia &amp; explore ...</td>\n",
       "      <td>2017-08-01 23:24:34</td>\n",
       "      <td>57.0</td>\n",
       "      <td>6</td>\n",
       "      <td>2668</td>\n",
       "      <td>False</td>\n",
       "      <td>2022-04-04 00:10:41</td>\n",
       "      <td>My solution  #REEDDLE28 3 words, 3 different c...</td>\n",
       "      <td>['REEDDLE28', 'Wordle288', 'MubarakRamadan', '...</td>\n",
       "      <td>Twitter Web App</td>\n",
       "      <td>False</td>\n",
       "    </tr>\n",
       "  </tbody>\n",
       "</table>\n",
       "<p>381625 rows × 13 columns</p>\n",
       "</div>"
      ],
      "text/plain": [
       "                      user_name              user_location  \\\n",
       "0                      MyNewsNE                      Assam   \n",
       "1                 Shubham Gupta                        NaN   \n",
       "2       Journal of Infectiology                        NaN   \n",
       "3                          Zane                        NaN   \n",
       "4            Ann-Maree O’Connor  Adelaide, South Australia   \n",
       "...                         ...                        ...   \n",
       "381668                   VaxBLR           Bengaluru, India   \n",
       "381669                   VaxBLR           Bengaluru, India   \n",
       "381670                   VaxBLR           Bengaluru, India   \n",
       "381671                   VaxBLR           Bengaluru, India   \n",
       "381672     YHenryG 😷🇺🇸 🇺🇳 🇺🇦 💉📚         South Florida, USA   \n",
       "\n",
       "                                         user_description  \\\n",
       "0       MyNewsNE a dedicated multi-lingual media house...   \n",
       "1       I will tell about all experiences of my life f...   \n",
       "2       Journal of Infectiology (ISSN 2689-9981) is ac...   \n",
       "3                                       Fresher than you.   \n",
       "4       Retired university administrator. Melburnian b...   \n",
       "...                                                   ...   \n",
       "381668  Hourly updates on FREE and PAID 18+ and 45+ va...   \n",
       "381669  Hourly updates on FREE and PAID 18+ and 45+ va...   \n",
       "381670  Hourly updates on FREE and PAID 18+ and 45+ va...   \n",
       "381671  Hourly updates on FREE and PAID 18+ and 45+ va...   \n",
       "381672  Contradictions: wallow in nostalgia & explore ...   \n",
       "\n",
       "               user_created  user_followers user_friends user_favourites  \\\n",
       "0          24-05-2020 10:18            64.0         11.0           110.0   \n",
       "1          14-08-2020 16:42             1.0         17.0             0.0   \n",
       "2          14-12-2017 07:07           143.0        566.0             8.0   \n",
       "3          18-09-2019 11:01            29.0         25.0           620.0   \n",
       "4          24-01-2013 14:53            83.0        497.0         10737.0   \n",
       "...                     ...             ...          ...             ...   \n",
       "381668  2021-06-21 08:44:34            38.0            0               0   \n",
       "381669  2021-06-21 08:44:34            38.0            0               0   \n",
       "381670  2021-06-21 08:44:34            38.0            0               0   \n",
       "381671  2021-06-21 08:44:34            38.0            0               0   \n",
       "381672  2017-08-01 23:24:34            57.0            6            2668   \n",
       "\n",
       "       user_verified                 date  \\\n",
       "0              False     18-08-2020 12:55   \n",
       "1              False     18-08-2020 12:55   \n",
       "2              False     18-08-2020 12:46   \n",
       "3              False     18-08-2020 12:45   \n",
       "4              False     18-08-2020 12:45   \n",
       "...              ...                  ...   \n",
       "381668         False  2022-04-04 02:00:06   \n",
       "381669         False  2022-04-04 01:30:27   \n",
       "381670         False  2022-04-04 01:30:17   \n",
       "381671         False  2022-04-04 01:30:06   \n",
       "381672         False  2022-04-04 00:10:41   \n",
       "\n",
       "                                                     text  \\\n",
       "0       Australia to Manufacture Covid-19 Vaccine and ...   \n",
       "1       #CoronavirusVaccine #CoronaVaccine #CovidVacci...   \n",
       "2       Deaths due to COVID-19 in Affected Countries\\n...   \n",
       "3       @Team_Subhashree @subhashreesotwe @iamrajchoco...   \n",
       "4       @michellegrattan @ConversationEDU This is what...   \n",
       "...                                                   ...   \n",
       "381668  45+ #RURAL #Bengaluru #CovidVaccine Availabili...   \n",
       "381669  18-44 #BBMP #Bengaluru #CovidVaccine Availabil...   \n",
       "381670  18-44 #URBAN #Bengaluru #CovidVaccine Availabi...   \n",
       "381671  18-44 #RURAL #Bengaluru #CovidVaccine Availabi...   \n",
       "381672  My solution  #REEDDLE28 3 words, 3 different c...   \n",
       "\n",
       "                                                 hashtags  \\\n",
       "0                                        ['CovidVaccine']   \n",
       "1       ['CoronavirusVaccine', 'CoronaVaccine', 'Covid...   \n",
       "2                                                     NaN   \n",
       "3                                                     NaN   \n",
       "4                                                     NaN   \n",
       "...                                                   ...   \n",
       "381668             ['RURAL', 'Bengaluru', 'CovidVaccine']   \n",
       "381669  ['BBMP', 'Bengaluru', 'CovidVaccine', 'COVISHI...   \n",
       "381670  ['URBAN', 'Bengaluru', 'CovidVaccine', 'COVISH...   \n",
       "381671  ['RURAL', 'Bengaluru', 'CovidVaccine', 'COVISH...   \n",
       "381672  ['REEDDLE28', 'Wordle288', 'MubarakRamadan', '...   \n",
       "\n",
       "                     source is_retweet  \n",
       "0           Twitter Web App      False  \n",
       "1       Twitter for Android      False  \n",
       "2           Twitter Web App      False  \n",
       "3       Twitter for Android      False  \n",
       "4           Twitter Web App      False  \n",
       "...                     ...        ...  \n",
       "381668               VaxBlr      False  \n",
       "381669               VaxBlr      False  \n",
       "381670               VaxBlr      False  \n",
       "381671               VaxBlr      False  \n",
       "381672      Twitter Web App      False  \n",
       "\n",
       "[381625 rows x 13 columns]"
      ]
     },
     "execution_count": 1,
     "metadata": {},
     "output_type": "execute_result"
    }
   ],
   "source": [
    "import pandas as pd\n",
    "df = pd.read_csv('covidvaccine.csv')\n",
    "df= df[df['text'].notnull()]\n",
    "df"
   ]
  },
  {
   "cell_type": "code",
   "execution_count": 2,
   "metadata": {},
   "outputs": [
    {
     "name": "stdout",
     "output_type": "stream",
     "text": [
      "['user_name', 'user_location', 'user_description', 'user_created', 'user_friends', 'user_favourites', 'user_verified', 'hashtags', 'source', 'is_retweet']\n"
     ]
    },
    {
     "data": {
      "text/html": [
       "<div>\n",
       "<style scoped>\n",
       "    .dataframe tbody tr th:only-of-type {\n",
       "        vertical-align: middle;\n",
       "    }\n",
       "\n",
       "    .dataframe tbody tr th {\n",
       "        vertical-align: top;\n",
       "    }\n",
       "\n",
       "    .dataframe thead th {\n",
       "        text-align: right;\n",
       "    }\n",
       "</style>\n",
       "<table border=\"1\" class=\"dataframe\">\n",
       "  <thead>\n",
       "    <tr style=\"text-align: right;\">\n",
       "      <th></th>\n",
       "      <th>user_followers</th>\n",
       "      <th>date</th>\n",
       "      <th>text</th>\n",
       "    </tr>\n",
       "  </thead>\n",
       "  <tbody>\n",
       "    <tr>\n",
       "      <th>0</th>\n",
       "      <td>64.0</td>\n",
       "      <td>18-08-2020 12:55</td>\n",
       "      <td>Australia to Manufacture Covid-19 Vaccine and ...</td>\n",
       "    </tr>\n",
       "    <tr>\n",
       "      <th>1</th>\n",
       "      <td>1.0</td>\n",
       "      <td>18-08-2020 12:55</td>\n",
       "      <td>#CoronavirusVaccine #CoronaVaccine #CovidVacci...</td>\n",
       "    </tr>\n",
       "    <tr>\n",
       "      <th>2</th>\n",
       "      <td>143.0</td>\n",
       "      <td>18-08-2020 12:46</td>\n",
       "      <td>Deaths due to COVID-19 in Affected Countries\\n...</td>\n",
       "    </tr>\n",
       "    <tr>\n",
       "      <th>3</th>\n",
       "      <td>29.0</td>\n",
       "      <td>18-08-2020 12:45</td>\n",
       "      <td>@Team_Subhashree @subhashreesotwe @iamrajchoco...</td>\n",
       "    </tr>\n",
       "    <tr>\n",
       "      <th>4</th>\n",
       "      <td>83.0</td>\n",
       "      <td>18-08-2020 12:45</td>\n",
       "      <td>@michellegrattan @ConversationEDU This is what...</td>\n",
       "    </tr>\n",
       "    <tr>\n",
       "      <th>...</th>\n",
       "      <td>...</td>\n",
       "      <td>...</td>\n",
       "      <td>...</td>\n",
       "    </tr>\n",
       "    <tr>\n",
       "      <th>381668</th>\n",
       "      <td>38.0</td>\n",
       "      <td>2022-04-04 02:00:06</td>\n",
       "      <td>45+ #RURAL #Bengaluru #CovidVaccine Availabili...</td>\n",
       "    </tr>\n",
       "    <tr>\n",
       "      <th>381669</th>\n",
       "      <td>38.0</td>\n",
       "      <td>2022-04-04 01:30:27</td>\n",
       "      <td>18-44 #BBMP #Bengaluru #CovidVaccine Availabil...</td>\n",
       "    </tr>\n",
       "    <tr>\n",
       "      <th>381670</th>\n",
       "      <td>38.0</td>\n",
       "      <td>2022-04-04 01:30:17</td>\n",
       "      <td>18-44 #URBAN #Bengaluru #CovidVaccine Availabi...</td>\n",
       "    </tr>\n",
       "    <tr>\n",
       "      <th>381671</th>\n",
       "      <td>38.0</td>\n",
       "      <td>2022-04-04 01:30:06</td>\n",
       "      <td>18-44 #RURAL #Bengaluru #CovidVaccine Availabi...</td>\n",
       "    </tr>\n",
       "    <tr>\n",
       "      <th>381672</th>\n",
       "      <td>57.0</td>\n",
       "      <td>2022-04-04 00:10:41</td>\n",
       "      <td>My solution  #REEDDLE28 3 words, 3 different c...</td>\n",
       "    </tr>\n",
       "  </tbody>\n",
       "</table>\n",
       "<p>381625 rows × 3 columns</p>\n",
       "</div>"
      ],
      "text/plain": [
       "        user_followers                 date  \\\n",
       "0                 64.0     18-08-2020 12:55   \n",
       "1                  1.0     18-08-2020 12:55   \n",
       "2                143.0     18-08-2020 12:46   \n",
       "3                 29.0     18-08-2020 12:45   \n",
       "4                 83.0     18-08-2020 12:45   \n",
       "...                ...                  ...   \n",
       "381668            38.0  2022-04-04 02:00:06   \n",
       "381669            38.0  2022-04-04 01:30:27   \n",
       "381670            38.0  2022-04-04 01:30:17   \n",
       "381671            38.0  2022-04-04 01:30:06   \n",
       "381672            57.0  2022-04-04 00:10:41   \n",
       "\n",
       "                                                     text  \n",
       "0       Australia to Manufacture Covid-19 Vaccine and ...  \n",
       "1       #CoronavirusVaccine #CoronaVaccine #CovidVacci...  \n",
       "2       Deaths due to COVID-19 in Affected Countries\\n...  \n",
       "3       @Team_Subhashree @subhashreesotwe @iamrajchoco...  \n",
       "4       @michellegrattan @ConversationEDU This is what...  \n",
       "...                                                   ...  \n",
       "381668  45+ #RURAL #Bengaluru #CovidVaccine Availabili...  \n",
       "381669  18-44 #BBMP #Bengaluru #CovidVaccine Availabil...  \n",
       "381670  18-44 #URBAN #Bengaluru #CovidVaccine Availabi...  \n",
       "381671  18-44 #RURAL #Bengaluru #CovidVaccine Availabi...  \n",
       "381672  My solution  #REEDDLE28 3 words, 3 different c...  \n",
       "\n",
       "[381625 rows x 3 columns]"
      ]
     },
     "execution_count": 2,
     "metadata": {},
     "output_type": "execute_result"
    }
   ],
   "source": [
    "use_cols = ['text', 'date', 'user_followers']\n",
    "drop_cols =list(filter(lambda x: x!=None, [col if not col in use_cols else None for col in df.columns]))\n",
    "print(drop_cols)\n",
    "\n",
    "import nltk\n",
    "\n",
    "data = df[df.columns.drop(drop_cols)]\n",
    "data"
   ]
  },
  {
   "cell_type": "code",
   "execution_count": 3,
   "metadata": {},
   "outputs": [],
   "source": [
    "#words = [w for w in nltk.corpus.state_union.words() if w.isalpha()]\n",
    "#stopwords = nltk.corpus.stopwords.words(\"english\")\n",
    "sentences = [nltk.word_tokenize(sentence) for sentence in data['text']]\n",
    "from pprint import pprint"
   ]
  },
  {
   "cell_type": "code",
   "execution_count": 13,
   "metadata": {},
   "outputs": [
    {
     "data": {
      "text/plain": [
       "7658214"
      ]
     },
     "execution_count": 13,
     "metadata": {},
     "output_type": "execute_result"
    }
   ],
   "source": [
    "# reduce list of lists to get just words\n",
    "words = []\n",
    "for sen in sentences:\n",
    "    for word in sen:\n",
    "        if word.isalpha():\n",
    "            words.append(word)\n",
    "len(words)"
   ]
  },
  {
   "cell_type": "code",
   "execution_count": 14,
   "metadata": {},
   "outputs": [],
   "source": [
    "lower_fd = nltk.FreqDist(words)"
   ]
  },
  {
   "cell_type": "code",
   "execution_count": 15,
   "metadata": {},
   "outputs": [
    {
     "data": {
      "text/plain": [
       "[('https', 333690),\n",
       " ('the', 242068),\n",
       " ('CovidVaccine', 224209),\n",
       " ('to', 190243),\n",
       " ('of', 123919),\n",
       " ('and', 109594),\n",
       " ('a', 100404),\n",
       " ('for', 97943),\n",
       " ('in', 93245),\n",
       " ('is', 79567)]"
      ]
     },
     "execution_count": 15,
     "metadata": {},
     "output_type": "execute_result"
    }
   ],
   "source": [
    "lower_fd.most_common(10) # we can see that CovidVaccine is the most frequent word"
   ]
  },
  {
   "cell_type": "code",
   "execution_count": 16,
   "metadata": {},
   "outputs": [],
   "source": [
    "finder = nltk.collocations.TrigramCollocationFinder.from_words(words) # eploratory via n-gram, n=3, most common tripple of words co-ocuring"
   ]
  },
  {
   "cell_type": "code",
   "execution_count": 18,
   "metadata": {},
   "outputs": [
    {
     "name": "stdout",
     "output_type": "stream",
     "text": [
      "('Bengaluru', 'CovidVaccine', 'Availability')       ('CovidVaccine', 'Availability', 'for')                 ('Availability', 'for', 'at')                         ('for', 'at', 'FREE')                       ('at', 'FREE', 'Slots')            ('Slots', 'COVISHIELD', 'COVAXIN')                     ('FREE', 'Slots', 'PAID')                    ('Slots', 'PAID', 'Slots')               ('PAID', 'Slots', 'COVISHIELD')               ('FREE', 'Slots', 'COVISHIELD') \n",
      "                                        13132                                         13132                                         13132                                         13132                                         13132                                          9320                                          8279                                          8279                                          7996                                          4683 \n"
     ]
    }
   ],
   "source": [
    "finder.ngram_fd.tabulate(10)"
   ]
  },
  {
   "cell_type": "code",
   "execution_count": 26,
   "metadata": {},
   "outputs": [],
   "source": [
    "'''\n",
    "Interesting to see that the most common occuring tripple of words look positive.\n",
    "The top 10 trigram are refering to covid availablility.\n",
    "We are now read for sentiment analysis.\n",
    "\n",
    "We will now train several models to classify sentiment. The training and testing\n",
    "will be done on nltk's movie review corpus. We can't do it on our data, since none\n",
    "of it is labeled. Once trained and evaluated, we will evaluate the accuracy accross\n",
    "all classifiers, and pick the best one. The models are:\n",
    "\n",
    "    \"BernoulliNB\": BernoulliNB(),\n",
    "    \"ComplementNB\": ComplementNB(),\n",
    "    \"MultinomialNB\": MultinomialNB(),\n",
    "    \"KNeighborsClassifier\": KNeighborsClassifier(),\n",
    "    \"DecisionTreeClassifier\": DecisionTreeClassifier(),\n",
    "    \"RandomForestClassifier\": RandomForestClassifier(),\n",
    "    \"LogisticRegression\": LogisticRegression(),\n",
    "    \"MLPClassifier\": MLPClassifier(max_iter=1000),\n",
    "    \"AdaBoostClassifier\": AdaBoostClassifier(),\n",
    "    \n",
    "'''\n",
    "from nltk.sentiment import SentimentIntensityAnalyzer\n",
    "\n",
    "unwanted = nltk.corpus.stopwords.words(\"english\")\n",
    "unwanted.extend([w.lower() for w in nltk.corpus.names.words()])\n",
    "\n",
    "def skip_unwanted(pos_tuple):\n",
    "    word, tag = pos_tuple\n",
    "    if not word.isalpha() or word in unwanted:\n",
    "        return False\n",
    "    if tag.startswith(\"NN\"):\n",
    "        return False\n",
    "    return True\n",
    "\n",
    "positive_words = [word for word, tag in filter(\n",
    "   skip_unwanted,\n",
    "   nltk.pos_tag(nltk.corpus.movie_reviews.words(categories=[\"pos\"]))\n",
    ")]\n",
    "negative_words = [word for word, tag in filter(\n",
    "   skip_unwanted,\n",
    "   nltk.pos_tag(nltk.corpus.movie_reviews.words(categories=[\"neg\"]))\n",
    ")]\n",
    "\n",
    "positive_fd = nltk.FreqDist(positive_words)\n",
    "negative_fd = nltk.FreqDist(negative_words)\n",
    "\n",
    "common_set = set(positive_fd).intersection(negative_fd)\n",
    "\n",
    "for word in common_set:\n",
    "    del positive_fd[word]\n",
    "    del negative_fd[word]\n",
    "\n",
    "top_100_positive = {word for word, count in positive_fd.most_common(100)}\n",
    "top_100_negative = {word for word, count in negative_fd.most_common(100)}\n",
    "\n",
    "unwanted = nltk.corpus.stopwords.words(\"english\")\n",
    "unwanted.extend([w.lower() for w in nltk.corpus.names.words()])\n",
    "\n",
    "positive_bigram_finder = nltk.collocations.BigramCollocationFinder.from_words([\n",
    "    w for w in nltk.corpus.movie_reviews.words(categories=[\"pos\"])\n",
    "    if w.isalpha() and w not in unwanted\n",
    "])\n",
    "negative_bigram_finder = nltk.collocations.BigramCollocationFinder.from_words([\n",
    "    w for w in nltk.corpus.movie_reviews.words(categories=[\"neg\"])\n",
    "    if w.isalpha() and w not in unwanted\n",
    "])\n",
    "\n",
    "def extract_features(text):\n",
    "    features = dict()\n",
    "    wordcount = 0\n",
    "    compound_scores = list()\n",
    "    positive_scores = list()\n",
    "\n",
    "    for sentence in nltk.sent_tokenize(text):\n",
    "        for word in nltk.word_tokenize(sentence):\n",
    "            if word.lower() in top_100_positive:\n",
    "                wordcount += 1\n",
    "        compound_scores.append(sia.polarity_scores(sentence)[\"compound\"])\n",
    "        positive_scores.append(sia.polarity_scores(sentence)[\"pos\"])\n",
    "\n",
    "    # Adding 1 to the final compound score to always have positive numbers\n",
    "    # since some classifiers you'll use later don't work with negative numbers.\n",
    "    features[\"mean_compound\"] = mean(compound_scores) + 1\n",
    "    features[\"mean_positive\"] = mean(positive_scores)\n",
    "    features[\"wordcount\"] = wordcount\n",
    "\n",
    "    return features"
   ]
  },
  {
   "cell_type": "code",
   "execution_count": 28,
   "metadata": {},
   "outputs": [],
   "source": [
    "sia = SentimentIntensityAnalyzer()\n",
    "features = [\n",
    "    (extract_features(nltk.corpus.movie_reviews.raw(review)), \"pos\")\n",
    "    for review in nltk.corpus.movie_reviews.fileids(categories=[\"pos\"])\n",
    "]\n",
    "features.extend([\n",
    "    (extract_features(nltk.corpus.movie_reviews.raw(review)), \"neg\")\n",
    "    for review in nltk.corpus.movie_reviews.fileids(categories=[\"neg\"])\n",
    "])"
   ]
  },
  {
   "cell_type": "code",
   "execution_count": 32,
   "metadata": {},
   "outputs": [],
   "source": [
    "from random import shuffle\n",
    "\n",
    "from sklearn.naive_bayes import (\n",
    "    BernoulliNB,\n",
    "    ComplementNB,\n",
    "    MultinomialNB,\n",
    ")\n",
    "from sklearn.neighbors import KNeighborsClassifier\n",
    "from sklearn.tree import DecisionTreeClassifier\n",
    "from sklearn.ensemble import RandomForestClassifier, AdaBoostClassifier\n",
    "from sklearn.linear_model import LogisticRegression\n",
    "from sklearn.neural_network import MLPClassifier\n",
    "from sklearn.discriminant_analysis import QuadraticDiscriminantAnalysis\n",
    "\n",
    "classifiers = {\n",
    "    \"BernoulliNB\": BernoulliNB(),\n",
    "    \"ComplementNB\": ComplementNB(),\n",
    "    \"MultinomialNB\": MultinomialNB(),\n",
    "    \"KNeighborsClassifier\": KNeighborsClassifier(),\n",
    "    \"DecisionTreeClassifier\": DecisionTreeClassifier(),\n",
    "    \"RandomForestClassifier\": RandomForestClassifier(),\n",
    "    \"LogisticRegression\": LogisticRegression(),\n",
    "    \"MLPClassifier\": MLPClassifier(max_iter=1000),\n",
    "    \"AdaBoostClassifier\": AdaBoostClassifier(),\n",
    "}\n"
   ]
  },
  {
   "cell_type": "code",
   "execution_count": 33,
   "metadata": {},
   "outputs": [
    {
     "name": "stdout",
     "output_type": "stream",
     "text": [
      "67.07% - BernoulliNB\n",
      "67.07% - ComplementNB\n",
      "67.07% - MultinomialNB\n",
      "70.87% - KNeighborsClassifier\n",
      "62.60% - DecisionTreeClassifier\n",
      "67.67% - RandomForestClassifier\n",
      "73.27% - LogisticRegression\n",
      "74.20% - MLPClassifier\n",
      "71.33% - AdaBoostClassifier\n"
     ]
    }
   ],
   "source": [
    "train_count = len(features) // 4\n",
    "shuffle(features)\n",
    "for name, sklearn_classifier in classifiers.items():\n",
    "    classifier = nltk.classify.SklearnClassifier(sklearn_classifier)\n",
    "    classifier.train(features[:train_count])\n",
    "    accuracy = nltk.classify.accuracy(classifier, features[train_count:])\n",
    "    print(F\"{accuracy:.2%} - {name}\")"
   ]
  },
  {
   "cell_type": "code",
   "execution_count": 34,
   "metadata": {},
   "outputs": [
    {
     "data": {
      "text/plain": [
       "['Australia',\n",
       " 'to',\n",
       " 'Manufacture',\n",
       " 'Covid-19',\n",
       " 'Vaccine',\n",
       " 'and',\n",
       " 'give',\n",
       " 'it',\n",
       " 'to',\n",
       " 'the',\n",
       " 'Citizens',\n",
       " 'for',\n",
       " 'free',\n",
       " 'of',\n",
       " 'cost',\n",
       " ':',\n",
       " 'AFP',\n",
       " 'quotes',\n",
       " 'Prime',\n",
       " 'Minister',\n",
       " '#',\n",
       " 'CovidVaccine']"
      ]
     },
     "execution_count": 34,
     "metadata": {},
     "output_type": "execute_result"
    }
   ],
   "source": [
    "'''\n",
    "MLPClassifier won!!\n",
    "Time to apply it to tweets.\n",
    "'''\n",
    "sentences[0]"
   ]
  },
  {
   "cell_type": "code",
   "execution_count": 43,
   "metadata": {},
   "outputs": [
    {
     "data": {
      "text/plain": [
       "<SklearnClassifier(MLPClassifier(max_iter=1000))>"
      ]
     },
     "execution_count": 43,
     "metadata": {},
     "output_type": "execute_result"
    }
   ],
   "source": [
    "classifier = nltk.classify.SklearnClassifier(MLPClassifier(max_iter=1000))\n",
    "classifier.train(features[:train_count])\n",
    "\n",
    "#final_features = []\n",
    "#nltk.classify(classifier, features[train_count:])\n",
    "\n"
   ]
  },
  {
   "cell_type": "code",
   "execution_count": 44,
   "metadata": {},
   "outputs": [
    {
     "data": {
      "text/plain": [
       "'pos'"
      ]
     },
     "execution_count": 44,
     "metadata": {},
     "output_type": "execute_result"
    }
   ],
   "source": [
    "classifier.classify(extract_features(data['text'][0]))"
   ]
  },
  {
   "cell_type": "code",
   "execution_count": 51,
   "metadata": {},
   "outputs": [
    {
     "name": "stderr",
     "output_type": "stream",
     "text": [
      "/usr/local/lib/python3.7/dist-packages/ipykernel_launcher.py:1: SettingWithCopyWarning: \n",
      "A value is trying to be set on a copy of a slice from a DataFrame.\n",
      "Try using .loc[row_indexer,col_indexer] = value instead\n",
      "\n",
      "See the caveats in the documentation: http://pandas.pydata.org/pandas-docs/stable/user_guide/indexing.html#returning-a-view-versus-a-copy\n",
      "  \"\"\"Entry point for launching an IPython kernel.\n"
     ]
    }
   ],
   "source": [
    "data['sentiment'] = data.apply(lambda x: classifier.classify(extract_features(x.text)), axis=1)\n",
    "                               \n",
    "                               "
   ]
  },
  {
   "cell_type": "code",
   "execution_count": 55,
   "metadata": {},
   "outputs": [
    {
     "data": {
      "text/plain": [
       "0            18-08-2020 12:55\n",
       "1            18-08-2020 12:55\n",
       "2            18-08-2020 12:46\n",
       "3            18-08-2020 12:45\n",
       "4            18-08-2020 12:45\n",
       "                 ...         \n",
       "381668    2022-04-04 02:00:06\n",
       "381669    2022-04-04 01:30:27\n",
       "381670    2022-04-04 01:30:17\n",
       "381671    2022-04-04 01:30:06\n",
       "381672    2022-04-04 00:10:41\n",
       "Name: date, Length: 381625, dtype: object"
      ]
     },
     "execution_count": 55,
     "metadata": {},
     "output_type": "execute_result"
    }
   ],
   "source": [
    "data['date']"
   ]
  },
  {
   "cell_type": "code",
   "execution_count": 56,
   "metadata": {},
   "outputs": [
    {
     "name": "stderr",
     "output_type": "stream",
     "text": [
      "/usr/local/lib/python3.7/dist-packages/ipykernel_launcher.py:1: SettingWithCopyWarning: \n",
      "A value is trying to be set on a copy of a slice from a DataFrame.\n",
      "Try using .loc[row_indexer,col_indexer] = value instead\n",
      "\n",
      "See the caveats in the documentation: http://pandas.pydata.org/pandas-docs/stable/user_guide/indexing.html#returning-a-view-versus-a-copy\n",
      "  \"\"\"Entry point for launching an IPython kernel.\n",
      "/usr/local/lib/python3.7/dist-packages/ipykernel_launcher.py:3: SettingWithCopyWarning: \n",
      "A value is trying to be set on a copy of a slice from a DataFrame.\n",
      "Try using .loc[row_indexer,col_indexer] = value instead\n",
      "\n",
      "See the caveats in the documentation: http://pandas.pydata.org/pandas-docs/stable/user_guide/indexing.html#returning-a-view-versus-a-copy\n",
      "  This is separate from the ipykernel package so we can avoid doing imports until\n"
     ]
    },
    {
     "data": {
      "text/plain": [
       "0         2020-08-18\n",
       "1         2020-08-18\n",
       "2         2020-08-18\n",
       "3         2020-08-18\n",
       "4         2020-08-18\n",
       "             ...    \n",
       "381668    2022-04-04\n",
       "381669    2022-04-04\n",
       "381670    2022-04-04\n",
       "381671    2022-04-04\n",
       "381672    2022-04-04\n",
       "Name: date, Length: 381616, dtype: object"
      ]
     },
     "execution_count": 56,
     "metadata": {},
     "output_type": "execute_result"
    }
   ],
   "source": [
    "data['date'] = pd.to_datetime(data['date'], errors='coerce')\n",
    "data = data.dropna(subset=['date'])\n",
    "data['date'] = pd.to_datetime(data['date']).dt.date\n",
    "data['date']"
   ]
  },
  {
   "cell_type": "code",
   "execution_count": 103,
   "metadata": {},
   "outputs": [],
   "source": [
    "positives = data[data['sentiment'] == 'pos']\n",
    "pos_fin = positives.groupby(['date'], as_index=False).count()\n",
    "pos_fin['positive sentiment'] = pos_fin['sentiment']\n",
    "\n",
    "negatives = data[data['sentiment'] == 'neg']\n",
    "neg_fin = negatives.groupby(['date'], as_index=False).count()\n",
    "neg_fin['negative sentiment'] = neg_fin['sentiment']"
   ]
  },
  {
   "cell_type": "code",
   "execution_count": 104,
   "metadata": {},
   "outputs": [
    {
     "data": {
      "text/plain": [
       "<matplotlib.axes._subplots.AxesSubplot at 0x7fa2ad2b2c90>"
      ]
     },
     "execution_count": 104,
     "metadata": {},
     "output_type": "execute_result"
    },
    {
     "data": {
      "image/png": "[encoded data removed]",
      "text/plain": [
       "<Figure size 432x288 with 1 Axes>"
      ]
     },
     "metadata": {
      "needs_background": "light"
     },
     "output_type": "display_data"
    }
   ],
   "source": [
    "ax = pos_fin[['date', 'positive sentiment']].plot()\n",
    "neg_fin[['date', 'negative sentiment']].plot(ax=ax)"
   ]
  },
  {
   "cell_type": "code",
   "execution_count": 63,
   "metadata": {},
   "outputs": [
    {
     "ename": "NameError",
     "evalue": "name 'positives' is not defined",
     "output_type": "error",
     "traceback": [
      "\u001b[0;31m---------------------------------------------------------------------------\u001b[0m",
      "\u001b[0;31mNameError\u001b[0m                                 Traceback (most recent call last)",
      "\u001b[0;32m<ipython-input-63-e56fae72be08>\u001b[0m in \u001b[0;36m<module>\u001b[0;34m\u001b[0m\n\u001b[1;32m      1\u001b[0m \u001b[0;32mimport\u001b[0m \u001b[0mmatplotlib\u001b[0m\u001b[0;34m.\u001b[0m\u001b[0mpyplot\u001b[0m \u001b[0;32mas\u001b[0m \u001b[0mplt\u001b[0m\u001b[0;34m\u001b[0m\u001b[0;34m\u001b[0m\u001b[0m\n\u001b[0;32m----> 2\u001b[0;31m \u001b[0mpositives\u001b[0m \u001b[0;34m=\u001b[0m \u001b[0mpositives\u001b[0m\u001b[0;34m[\u001b[0m \u001b[0;34m[\u001b[0m\u001b[0;34m'date'\u001b[0m\u001b[0;34m,\u001b[0m \u001b[0;34m'sentiment'\u001b[0m\u001b[0;34m]\u001b[0m\u001b[0;34m]\u001b[0m\u001b[0;34m\u001b[0m\u001b[0;34m\u001b[0m\u001b[0m\n\u001b[0m\u001b[1;32m      3\u001b[0m \u001b[0mpositives\u001b[0m\u001b[0;34m.\u001b[0m\u001b[0mplot\u001b[0m\u001b[0;34m(\u001b[0m\u001b[0;34m)\u001b[0m\u001b[0;34m\u001b[0m\u001b[0;34m\u001b[0m\u001b[0m\n",
      "\u001b[0;31mNameError\u001b[0m: name 'positives' is not defined"
     ]
    }
   ],
   "source": []
  },
  {
   "cell_type": "code",
   "execution_count": null,
   "metadata": {},
   "outputs": [],
   "source": []
  }
 ],
 "metadata": {
  "kernelspec": {
   "display_name": "Python 3",
   "language": "python",
   "name": "python3"
  },
  "language_info": {
   "codemirror_mode": {
    "name": "ipython",
    "version": 3
   },
   "file_extension": ".py",
   "mimetype": "text/x-python",
   "name": "python",
   "nbconvert_exporter": "python",
   "pygments_lexer": "ipython3",
   "version": "3.7.5"
  }
 },
 "nbformat": 4,
 "nbformat_minor": 4
}
